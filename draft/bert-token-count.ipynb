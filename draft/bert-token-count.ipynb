{
 "cells": [
  {
   "cell_type": "markdown",
   "metadata": {},
   "source": [
    "# Token Extraction (BERT Tokenizer)"
   ]
  },
  {
   "cell_type": "code",
   "execution_count": 16,
   "metadata": {},
   "outputs": [
    {
     "name": "stderr",
     "output_type": "stream",
     "text": [
      "100it [00:27,  3.63it/s]\n"
     ]
    }
   ],
   "source": [
    "import os\n",
    "from transformers import BertTokenizer\n",
    "from tqdm import tqdm\n",
    "\n",
    "def count_bert_tokens(article):\n",
    "    tokenizer = BertTokenizer.from_pretrained('bert-base-uncased')\n",
    "    tokens = tokenizer.tokenize(article)\n",
    "    return len(tokens)\n",
    "\n",
    "def process_file(file_path):\n",
    "    token_counts = {}\n",
    "    with open(file_path, 'r', encoding='utf-8') as file:\n",
    "        i = 0\n",
    "        for line in tqdm(file):\n",
    "            if '||' in line:\n",
    "                url, article = line.split('||', 1)  # Split only on the first occurrence of '||'\n",
    "                article = article.replace('\\n', ' ').replace('\\r', ' ').strip()  # Clean up the article text\n",
    "                token_count = count_bert_tokens(article.strip())\n",
    "                token_counts[url.strip()] = token_count\n",
    "            i+=1\n",
    "            if i > 100:\n",
    "                break\n",
    "\n",
    "    return token_counts\n",
    "\n",
    "def count_tokens_in_directory(directory_path):\n",
    "    all_token_counts = {}\n",
    "    for filename in os.listdir(directory_path):\n",
    "        if filename.endswith('.txt'):\n",
    "            file_path = os.path.join(directory_path, filename)\n",
    "            token_counts = process_file(file_path)\n",
    "            all_token_counts.update(token_counts)\n",
    "\n",
    "    return all_token_counts\n",
    "\n",
    "directory_path = 'output/articles/es/11072024_105419'  # replace with the path to your directory containing Wikipedia articles\n",
    "token_counts = count_tokens_in_directory(directory_path)\n"
   ]
  },
  {
   "cell_type": "code",
   "execution_count": 18,
   "metadata": {},
   "outputs": [
    {
     "data": {
      "text/plain": [
       "6992331.881188119"
      ]
     },
     "execution_count": 18,
     "metadata": {},
     "output_type": "execute_result"
    }
   ],
   "source": [
    "import numpy as np\n",
    "avg = np.mean(list(token_counts.values()))\n",
    "avg * 8819"
   ]
  },
  {
   "cell_type": "code",
   "execution_count": null,
   "metadata": {},
   "outputs": [],
   "source": []
  }
 ],
 "metadata": {
  "kernelspec": {
   "display_name": ".nbenv",
   "language": "python",
   "name": "python3"
  },
  "language_info": {
   "codemirror_mode": {
    "name": "ipython",
    "version": 3
   },
   "file_extension": ".py",
   "mimetype": "text/x-python",
   "name": "python",
   "nbconvert_exporter": "python",
   "pygments_lexer": "ipython3",
   "version": "3.8.10"
  }
 },
 "nbformat": 4,
 "nbformat_minor": 2
}
